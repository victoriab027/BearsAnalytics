{
 "cells": [
  {
   "cell_type": "markdown",
   "metadata": {},
   "source": [
    "## Car Max Data Analytics Problem\n",
    "\n",
    "### Goal/Task:\n",
    "Many customers decide to trade-in their current vehicle when purchasing a vehicle at CarMax.\n",
    "\n",
    "What does a customer's appraised vehicle tell us about the vehicle they will end up purchasing?\n",
    "How can CarMax use this information to improve business operations and provide customers a personalized shopping experience?\n",
    "\n",
    "### How we plan to accomplish this:\n",
    "\n",
    "Making a machine learning algorithm that can predit these trends between appraised vehicle and the one they end up purchasing\n",
    "\n",
    "Present ways to add more data to this algoirthm to the business side\n",
    "\n"
   ]
  },
  {
   "cell_type": "code",
   "execution_count": 7,
   "metadata": {},
   "outputs": [],
   "source": [
    "# Import the data\n",
    "import pandas as pd\n",
    "data = pd.read_csv(\"ShowcaseDataWinter2023.csv\")"
   ]
  },
  {
   "cell_type": "code",
   "execution_count": 8,
   "metadata": {},
   "outputs": [
    {
     "data": {
      "text/html": [
       "<div>\n",
       "<style scoped>\n",
       "    .dataframe tbody tr th:only-of-type {\n",
       "        vertical-align: middle;\n",
       "    }\n",
       "\n",
       "    .dataframe tbody tr th {\n",
       "        vertical-align: top;\n",
       "    }\n",
       "\n",
       "    .dataframe thead th {\n",
       "        text-align: right;\n",
       "    }\n",
       "</style>\n",
       "<table border=\"1\" class=\"dataframe\">\n",
       "  <thead>\n",
       "    <tr style=\"text-align: right;\">\n",
       "      <th></th>\n",
       "      <th>price</th>\n",
       "      <th>appraisal_offer</th>\n",
       "      <th>online_appraisal_flag</th>\n",
       "      <th>model_year</th>\n",
       "      <th>mileage</th>\n",
       "      <th>make</th>\n",
       "      <th>model</th>\n",
       "      <th>trim_descrip</th>\n",
       "      <th>body</th>\n",
       "      <th>color</th>\n",
       "      <th>...</th>\n",
       "      <th>trim_descrip_appraisal</th>\n",
       "      <th>body_appraisal</th>\n",
       "      <th>color_appraisal</th>\n",
       "      <th>engine_appraisal</th>\n",
       "      <th>cylinders_appraisal</th>\n",
       "      <th>mpg_city_appraisal</th>\n",
       "      <th>mpg_highway_appraisal</th>\n",
       "      <th>horsepower_appraisal</th>\n",
       "      <th>fuel_capacity_appraisal</th>\n",
       "      <th>market</th>\n",
       "    </tr>\n",
       "  </thead>\n",
       "  <tbody>\n",
       "    <tr>\n",
       "      <th>0</th>\n",
       "      <td>$20k to $25k</td>\n",
       "      <td>$0k to $5k</td>\n",
       "      <td>1.0</td>\n",
       "      <td>2014.0</td>\n",
       "      <td>15k to 20k miles</td>\n",
       "      <td>HDT</td>\n",
       "      <td>HDT_12</td>\n",
       "      <td>Premium</td>\n",
       "      <td>E</td>\n",
       "      <td>Red</td>\n",
       "      <td>...</td>\n",
       "      <td>NaN</td>\n",
       "      <td>D</td>\n",
       "      <td>Silver</td>\n",
       "      <td>4.0L</td>\n",
       "      <td>6</td>\n",
       "      <td>17.0</td>\n",
       "      <td>21</td>\n",
       "      <td>236</td>\n",
       "      <td>21.0</td>\n",
       "      <td>13</td>\n",
       "    </tr>\n",
       "    <tr>\n",
       "      <th>1</th>\n",
       "      <td>$15k to $20k</td>\n",
       "      <td>$0k to $5k</td>\n",
       "      <td>0.0</td>\n",
       "      <td>2006.0</td>\n",
       "      <td>100k+ miles</td>\n",
       "      <td>KQZ</td>\n",
       "      <td>KQZ_23</td>\n",
       "      <td>Premium</td>\n",
       "      <td>E</td>\n",
       "      <td>Silver</td>\n",
       "      <td>...</td>\n",
       "      <td>Not Premium</td>\n",
       "      <td>D</td>\n",
       "      <td>Gold</td>\n",
       "      <td>4.2L</td>\n",
       "      <td>6</td>\n",
       "      <td>16.0</td>\n",
       "      <td>21</td>\n",
       "      <td>205</td>\n",
       "      <td>25.0</td>\n",
       "      <td>11</td>\n",
       "    </tr>\n",
       "    <tr>\n",
       "      <th>2</th>\n",
       "      <td>$30k to $35k</td>\n",
       "      <td>$35k to $40k</td>\n",
       "      <td>1.0</td>\n",
       "      <td>2014.0</td>\n",
       "      <td>5k to 10k miles</td>\n",
       "      <td>CZV</td>\n",
       "      <td>CZV_10</td>\n",
       "      <td>Premium</td>\n",
       "      <td>E</td>\n",
       "      <td>Black</td>\n",
       "      <td>...</td>\n",
       "      <td>NaN</td>\n",
       "      <td>E</td>\n",
       "      <td>Red</td>\n",
       "      <td>2.0L</td>\n",
       "      <td>4</td>\n",
       "      <td>41.0</td>\n",
       "      <td>38</td>\n",
       "      <td>181</td>\n",
       "      <td>10.0</td>\n",
       "      <td>13</td>\n",
       "    </tr>\n",
       "    <tr>\n",
       "      <th>3</th>\n",
       "      <td>$35k to $40k</td>\n",
       "      <td>$5k to $10k</td>\n",
       "      <td>1.0</td>\n",
       "      <td>2014.0</td>\n",
       "      <td>15k to 20k miles</td>\n",
       "      <td>IZA</td>\n",
       "      <td>IZA_19</td>\n",
       "      <td>Premium</td>\n",
       "      <td>F</td>\n",
       "      <td>Silver</td>\n",
       "      <td>...</td>\n",
       "      <td>Premium</td>\n",
       "      <td>F</td>\n",
       "      <td>Blue</td>\n",
       "      <td>3.0L</td>\n",
       "      <td>6</td>\n",
       "      <td>17.0</td>\n",
       "      <td>25</td>\n",
       "      <td>230</td>\n",
       "      <td>16.0</td>\n",
       "      <td>13</td>\n",
       "    </tr>\n",
       "    <tr>\n",
       "      <th>4</th>\n",
       "      <td>$30k to $35k</td>\n",
       "      <td>$15k to $20k</td>\n",
       "      <td>1.0</td>\n",
       "      <td>2011.0</td>\n",
       "      <td>35k to 40k miles</td>\n",
       "      <td>HDT</td>\n",
       "      <td>HDT_8</td>\n",
       "      <td>Premium</td>\n",
       "      <td>F</td>\n",
       "      <td>Blue</td>\n",
       "      <td>...</td>\n",
       "      <td>Not Premium</td>\n",
       "      <td>E</td>\n",
       "      <td>Black</td>\n",
       "      <td>2.4L</td>\n",
       "      <td>4</td>\n",
       "      <td>20.0</td>\n",
       "      <td>29</td>\n",
       "      <td>182</td>\n",
       "      <td>18.0</td>\n",
       "      <td>16</td>\n",
       "    </tr>\n",
       "  </tbody>\n",
       "</table>\n",
       "<p>5 rows × 30 columns</p>\n",
       "</div>"
      ],
      "text/plain": [
       "          price appraisal_offer  online_appraisal_flag  model_year  \\\n",
       "0  $20k to $25k      $0k to $5k                    1.0      2014.0   \n",
       "1  $15k to $20k      $0k to $5k                    0.0      2006.0   \n",
       "2  $30k to $35k    $35k to $40k                    1.0      2014.0   \n",
       "3  $35k to $40k     $5k to $10k                    1.0      2014.0   \n",
       "4  $30k to $35k    $15k to $20k                    1.0      2011.0   \n",
       "\n",
       "            mileage make   model trim_descrip body   color  ...  \\\n",
       "0  15k to 20k miles  HDT  HDT_12      Premium    E     Red  ...   \n",
       "1       100k+ miles  KQZ  KQZ_23      Premium    E  Silver  ...   \n",
       "2   5k to 10k miles  CZV  CZV_10      Premium    E   Black  ...   \n",
       "3  15k to 20k miles  IZA  IZA_19      Premium    F  Silver  ...   \n",
       "4  35k to 40k miles  HDT   HDT_8      Premium    F    Blue  ...   \n",
       "\n",
       "  trim_descrip_appraisal  body_appraisal  color_appraisal  engine_appraisal  \\\n",
       "0                    NaN               D           Silver              4.0L   \n",
       "1            Not Premium               D             Gold              4.2L   \n",
       "2                    NaN               E              Red              2.0L   \n",
       "3                Premium               F             Blue              3.0L   \n",
       "4            Not Premium               E            Black              2.4L   \n",
       "\n",
       "   cylinders_appraisal  mpg_city_appraisal  mpg_highway_appraisal  \\\n",
       "0                    6                17.0                     21   \n",
       "1                    6                16.0                     21   \n",
       "2                    4                41.0                     38   \n",
       "3                    6                17.0                     25   \n",
       "4                    4                20.0                     29   \n",
       "\n",
       "  horsepower_appraisal fuel_capacity_appraisal market  \n",
       "0                  236                    21.0     13  \n",
       "1                  205                    25.0     11  \n",
       "2                  181                    10.0     13  \n",
       "3                  230                    16.0     13  \n",
       "4                  182                    18.0     16  \n",
       "\n",
       "[5 rows x 30 columns]"
      ]
     },
     "execution_count": 8,
     "metadata": {},
     "output_type": "execute_result"
    }
   ],
   "source": [
    "# Visualize the data\n",
    "data.head()"
   ]
  },
  {
   "cell_type": "markdown",
   "metadata": {},
   "source": [
    "### Finding trends\n",
    "Let's now try to find some trends. We can  compare some direct things such as the following:\n",
    "- price & appraisal_offer\n",
    "- model_year & model_year_appraisal\n",
    "- mileage & mileage_appraisal (NEED TO CONVERT TO DOUBLE/FLOAT - IS A STRING)\n",
    "- engine & engine_appraisal (is a string with L at the end but we could convert to a float)\n",
    "- cylinders & cylinders_appraisal\n",
    "- mpg_city & mpg_city_appraisal\n",
    "- mgp_highway & mpg_highway_appraisal\n",
    "- horsepower & horsepower_appraisal\n",
    "- fuel_capacity & fuel_capacity_appraisal\n"
   ]
  },
  {
   "cell_type": "code",
   "execution_count": 9,
   "metadata": {},
   "outputs": [
    {
     "data": {
      "text/plain": [
       "Text(0, 0.5, 'Price of Purchased Viechle ($k)')"
      ]
     },
     "execution_count": 9,
     "metadata": {},
     "output_type": "execute_result"
    },
    {
     "data": {
      "image/png": "[encoded data removed]",
      "text/plain": [
       "<Figure size 432x288 with 1 Axes>"
      ]
     },
     "metadata": {
      "needs_background": "light"
     },
     "output_type": "display_data"
    }
   ],
   "source": [
    "import matplotlib.pyplot as plt\n",
    "from sklearn.model_selection import train_test_split\n",
    "import numpy as np\n",
    "\n",
    "# price / offer\n",
    "appraisal_offer = data[\"appraisal_offer\"]\n",
    "price = data[\"price\"]\n",
    "\n",
    "appraisal_offer=appraisal_offer.replace(to_replace=\"$0k to $5k\",value=\"2.5\")\n",
    "appraisal_offer=appraisal_offer.replace(to_replace=\"$5k to $10k\",value=\"7.5\")\n",
    "appraisal_offer=appraisal_offer.replace(to_replace=\"$0 to $15k\",value=\"7.5\")\n",
    "appraisal_offer=appraisal_offer.replace(to_replace=\"$10k to $15k\",value=\"12.5\")\n",
    "appraisal_offer=appraisal_offer.replace(to_replace=\"$15k to $20k\",value=\"17.5\")\n",
    "appraisal_offer=appraisal_offer.replace(to_replace=\"$20k to $25k\",value=\"22.5\")\n",
    "appraisal_offer=appraisal_offer.replace(to_replace=\"$25k to $30k\",value=\"27.5\")\n",
    "appraisal_offer=appraisal_offer.replace(to_replace=\"$30k to $35k\",value=\"32.5\")\n",
    "appraisal_offer=appraisal_offer.replace(to_replace=\"$35k to $40k\",value=\"37.5\")\n",
    "appraisal_offer=appraisal_offer.replace(to_replace=\"$40k to $45k\",value=\"42.5\")\n",
    "appraisal_offer=appraisal_offer.replace(to_replace=\"$45k to $50k\",value=\"47.5\")\n",
    "appraisal_offer=appraisal_offer.replace(to_replace=\"$50k to $55k\",value=\"52.5\")\n",
    "appraisal_offer=appraisal_offer.replace(to_replace=\"$55k to $60k\",value=\"57.5\")\n",
    "appraisal_offer=appraisal_offer.replace(to_replace=\"$60k to $65k\",value=\"62.5\")\n",
    "appraisal_offer=appraisal_offer.replace(to_replace=\"$65k to $70k\",value=\"67.5\")\n",
    "appraisal_offer=appraisal_offer.replace(to_replace=\"$40k+\",value=\"40\")\n",
    "appraisal_offer=appraisal_offer.replace(to_replace=\"$70k+\",value=\"70\")\n",
    "\n",
    "price=price.replace(to_replace=\"$0k to $5k\",value=\"2.5\")\n",
    "price=price.replace(to_replace=\"$0 to $15k\",value=\"7.5\")\n",
    "price=price.replace(to_replace=\"$5k to $10k\",value=\"7.5\")\n",
    "price=price.replace(to_replace=\"$10k to $15k\",value=\"12.5\")\n",
    "price=price.replace(to_replace=\"$15k to $20k\",value=\"17.5\")\n",
    "price=price.replace(to_replace=\"$20k to $25k\",value=\"22.5\")\n",
    "price=price.replace(to_replace=\"$25k to $30k\",value=\"27.5\")\n",
    "price=price.replace(to_replace=\"$30k to $35k\",value=\"32.5\")\n",
    "price=price.replace(to_replace=\"$35k to $40k\",value=\"37.5\")\n",
    "price=price.replace(to_replace=\"$40k to $45k\",value=\"42.5\")\n",
    "price=price.replace(to_replace=\"$45k to $50k\",value=\"47.5\")\n",
    "price=price.replace(to_replace=\"$50k to $55k\",value=\"52.5\")\n",
    "price=price.replace(to_replace=\"$55k to $60k\",value=\"57.5\")\n",
    "price=price.replace(to_replace=\"$60k to $65k\",value=\"62.5\")\n",
    "price=price.replace(to_replace=\"$65k to $70k\",value=\"67.5\")\n",
    "price=price.replace(to_replace=\"$40k+\",value=\"40\")\n",
    "price=price.replace(to_replace=\"$70k+\",value=\"70\")\n",
    "\n",
    "appraisal_offer = appraisal_offer.astype(float)\n",
    "price = price.astype(float)\n",
    "\n",
    "X_tr, X_te, y_tr, y_te = train_test_split(appraisal_offer, price, test_size=0.3, random_state=142)\n",
    "plt.plot(X_tr,y_tr,'.')\n",
    "plt.xlabel(\"Appraisal Offer ($k)\")\n",
    "plt.ylabel(\"Price of Purchased Viechle ($k)\")\n",
    "\n",
    "#plt.plot(p_test,a_test)"
   ]
  },
  {
   "cell_type": "code",
   "execution_count": 29,
   "metadata": {},
   "outputs": [],
   "source": [
    "# cylinders\n",
    "cylinders_appraisal = data[\"cylinders_appraisal\"]\n",
    "cylinders_appraisal=cylinders_appraisal.replace(to_replace=\"null\",value=\"0\")\n",
    "cylinders_appraisal = cylinders_appraisal.astype(int)\n",
    "\n",
    "cylinders = data[\"cylinders\"]\n",
    "cylinders=cylinders.replace(to_replace=\"null\",value=\"0\")\n",
    "cylinders = cylinders.astype(int)\n",
    "\n",
    "\n",
    "\n",
    "# horsepower\n",
    "horsepower_appraisal = data[\"horsepower_appraisal\"]\n",
    "horsepower_appraisal=horsepower_appraisal.replace(to_replace=\"null\",value=\"0\")\n",
    "horsepower_appraisal = horsepower_appraisal.astype(float)\n",
    "\n",
    "horsepower = data[\"horsepower\"]\n",
    "horsepower=horsepower.replace(to_replace=\"null\",value=\"0\")\n",
    "horsepower = horsepower.astype(float)\n",
    "\n",
    "#  fuel_capacity\n",
    "fuel_capacity_appraisal = data[\"fuel_capacity\"]\n",
    "fuel_capacity_appraisal = fuel_capacity_appraisal.replace(to_replace=\"null\",value=\"0\")\n",
    "fuel_capacity_appraisal = fuel_capacity_appraisal.astype(float)\n",
    "\n",
    "fuel_capacity = data[\"fuel_capacity\"]\n",
    "fuel_capacity = fuel_capacity.replace(to_replace=\"null\",value=\"0\")\n",
    "fuel_capacity = fuel_capacity.astype(float)"
   ]
  },
  {
   "cell_type": "code",
   "execution_count": 13,
   "metadata": {},
   "outputs": [],
   "source": [
    "# Let's try making an ANN \n",
    "# First we'll need to add in more data into the X\n",
    "from sklearn.neural_network import MLPRegressor\n",
    "\n",
    "appraisal_offer_np = appraisal_offer.to_numpy()\n",
    "\n",
    "#print(appraisal_offer_np[1])\n",
    "price_np = price.to_numpy()\n",
    "\n",
    "cylinders_appraisal_np = price.to_numpy()\n",
    "\n",
    "#X = np.array([appraisal_offer_np, cylinders_appraisal_np, horsepower_appraisal, fuel_capacity_appraisal])\n",
    "\n",
    "n = len(cylinders_appraisal_np)\n",
    "\n",
    "X = np.zeros([n,4])\n",
    "Y = np.zeros([n,1])\n",
    "\n",
    "\n",
    "for i in range(len(cylinders_appraisal)):\n",
    "    X[i][0] = appraisal_offer_np[i]\n",
    "    X[i][1] = cylinders_appraisal_np[i]\n",
    "    X[i][2] = horsepower_appraisal[i]\n",
    "    X[i][3] = fuel_capacity_appraisal[i]\n",
    "    Y[i] = price_np[i]\n",
    "\n",
    "Y = Y[:,0]\n",
    "\n",
    "X[14650,3] = 0\n",
    "X[ 28503,3] = 0\n",
    "X[ 37101,3] = 0 \n",
    "X[142763,3] = 0"
   ]
  },
  {
   "cell_type": "code",
   "execution_count": 22,
   "metadata": {},
   "outputs": [],
   "source": [
    "#test train split\n",
    "X_train, X_test, y_train, y_test = train_test_split(X, Y, test_size=0.3, random_state=445)\n",
    "\n",
    "# MLP Regression\n",
    "regr = MLPRegressor(random_state=1, max_iter=500).fit(X_train, y_train)\n",
    "#regr.predict(X_test[:2])\n"
   ]
  },
  {
   "cell_type": "markdown",
   "metadata": {},
   "source": [
    "## Testing out 2D Y Matrix\n",
    "Now, I'd like to see if I can get this MLP Regressor to have a 2D Y matrix so I can begin to predit the price AND other values"
   ]
  },
  {
   "cell_type": "code",
   "execution_count": 36,
   "metadata": {},
   "outputs": [],
   "source": [
    "price_np = price.to_numpy()\n",
    "cylinder_np = cylinders.to_numpy()\n",
    "horsepower_np = horsepower.to_numpy()\n",
    "fuel_capacity_np = fuel_capacity.to_numpy()\n",
    "\n",
    "Y = np.zeros([n,4])\n",
    "\n",
    "\n",
    "for i in range(len(cylinders_appraisal)):\n",
    "    Y[i][0] = price_np[i]\n",
    "    Y[i][1] = cylinder_np[i]\n",
    "    Y[i][2] = horsepower_np[i]\n",
    "    Y[i][3] = fuel_capacity_np[i]\n",
    "\n",
    "Y[14650,3] = 0\n",
    "Y[28503,3] = 0\n",
    "Y[37101,3] = 0\n",
    "Y[142763,3] = 0\n"
   ]
  },
  {
   "cell_type": "code",
   "execution_count": 42,
   "metadata": {},
   "outputs": [],
   "source": [
    "from sklearn.preprocessing import StandardScaler\n",
    "from sklearn.metrics import r2_score\n",
    "#test train split\n",
    "X_train, X_test, y_train, y_test = train_test_split(X, Y, test_size=0.3, random_state=445)"
   ]
  },
  {
   "cell_type": "code",
   "execution_count": 47,
   "metadata": {},
   "outputs": [
    {
     "name": "stdout",
     "output_type": "stream",
     "text": [
      "[[ 24.82573921   4.20312476 214.26380662  17.71564756]]\n"
     ]
    },
    {
     "data": {
      "text/plain": [
       "0.7321121489667204"
      ]
     },
     "execution_count": 47,
     "metadata": {},
     "output_type": "execute_result"
    }
   ],
   "source": [
    "# trying more things !!\n",
    "\n",
    "from sklearn.datasets import make_regression\n",
    "from sklearn.model_selection import train_test_split\n",
    "from sklearn.multioutput import MultiOutputRegressor\n",
    "from sklearn.ensemble import RandomForestRegressor\n",
    "\n",
    "# model building\n",
    "clf = MultiOutputRegressor(RandomForestRegressor(max_depth=2, random_state=0))\n",
    "clf.fit(X_train, y_train)"
   ]
  },
  {
   "cell_type": "code",
   "execution_count": 53,
   "metadata": {},
   "outputs": [
    {
     "name": "stdout",
     "output_type": "stream",
     "text": [
      "Appraisal Offer: $ 2.5 k\n",
      "Old Cylinders:  27.5\n",
      "Old Horsepower:  210.0\n",
      "Old Fuel Capacity:  17.0\n",
      "Predicted Price: $ 24.825739213087857 k\n",
      "Predicted Cylinders:  4.203124764706739\n",
      "Predicted Horsepower:  214.26380662289802\n",
      "Predicted Fuel Capacity:  17.71564755586922\n",
      "Bought Price: $ 27.5 $\n",
      "Bought Cylinders:  6.0\n",
      "Bought Horsepower:  268.0\n",
      "Bought Fuel Capacity:  268.0\n"
     ]
    }
   ],
   "source": [
    "# scoring and prediction\n",
    "\n",
    "print(\"Appraisal Offer: $\",X_test[0][0],\"k\")\n",
    "print(\"Old Cylinders: \",X_test[0][1])\n",
    "print(\"Old Horsepower: \",X_test[0][2])\n",
    "print(\"Old Fuel Capacity: \",X_test[0][3])\n",
    "pred = clf.predict(X_test[[0]])\n",
    "print(\"Predicted Price: $\", pred[0][0], \"k\")\n",
    "print(\"Predicted Cylinders: \", pred[0][1])\n",
    "print(\"Predicted Horsepower: \", pred[0][2])\n",
    "print(\"Predicted Fuel Capacity: \", pred[0][3])\n",
    "\n",
    "print(\"Bought Price: $\", y_test[0][0], \"$\")\n",
    "print(\"Bought Cylinders: \", y_test[0][1])\n",
    "print(\"Bought Horsepower: \", y_test[0][2])\n",
    "print(\"Bought Fuel Capacity: \", y_test[0][2])\n",
    "#print(clf.predict(X_test[[0]]))\n",
    "#clf.score(X_test, y_test, sample_weight=None)"
   ]
  },
  {
   "cell_type": "markdown",
   "metadata": {},
   "source": [
    "## Things that haven't worked\n",
    "Just me attempting the 2D things again but it not workign"
   ]
  },
  {
   "cell_type": "code",
   "execution_count": 45,
   "metadata": {},
   "outputs": [
    {
     "data": {
      "text/plain": [
       "KNeighborsRegressor()"
      ]
     },
     "execution_count": 45,
     "metadata": {},
     "output_type": "execute_result"
    }
   ],
   "source": [
    "# KNN Model testing\n",
    "from sklearn.neighbors import KNeighborsRegressor\n",
    "from sklearn.metrics import accuracy_score\n",
    "# define model\n",
    "model_KNN = KNeighborsRegressor()\n",
    "# fit model\n",
    "model_KNN.fit(X, Y)\n",
    "print(accuracy_score(y_train, y_test))"
   ]
  },
  {
   "cell_type": "code",
   "execution_count": 43,
   "metadata": {},
   "outputs": [],
   "source": [
    "sc_X = StandardScaler()\n",
    "X_trainscaled=sc_X.fit_transform(X_train)\n",
    "X_testscaled=sc_X.transform(X_test)"
   ]
  },
  {
   "cell_type": "code",
   "execution_count": 44,
   "metadata": {},
   "outputs": [
    {
     "name": "stderr",
     "output_type": "stream",
     "text": [
      "/Users/victoria/opt/anaconda3/envs/cse217a/lib/python3.7/site-packages/sklearn/neural_network/_multilayer_perceptron.py:587: UserWarning: Training interrupted by user.\n",
      "  warnings.warn(\"Training interrupted by user.\")\n"
     ]
    }
   ],
   "source": [
    "# MLP Regression\n",
    "reg = MLPRegressor(hidden_layer_sizes=(34,34,34),activation=\"relu\" ,random_state=1, max_iter=200).fit(X_trainscaled, y_train)"
   ]
  },
  {
   "cell_type": "code",
   "execution_count": null,
   "metadata": {},
   "outputs": [],
   "source": [
    "y_pred=reg.predict(X_testscaled)\n",
    "print('The Score with', (r2_score(y_pred, y_test)))\n",
    "\n",
    "#regr = MLPRegressor(random_state=1, max_iter=500).fit(X_train, y_train)\n",
    "#regr.predict(X_test[:2])"
   ]
  },
  {
   "cell_type": "markdown",
   "metadata": {},
   "source": [
    "## Bar Plot attempting\n",
    "This is me trying to make a bar plot to visualize average cost at each market"
   ]
  },
  {
   "cell_type": "code",
   "execution_count": 214,
   "metadata": {},
   "outputs": [
    {
     "name": "stdout",
     "output_type": "stream",
     "text": [
      "0         appraisal\n",
      "1         appraisal\n",
      "2         appraisal\n",
      "3         appraisal\n",
      "4         appraisal\n",
      "            ...    \n",
      "199995    appraisal\n",
      "199996    appraisal\n",
      "199997    appraisal\n",
      "199998    appraisal\n",
      "199999    appraisal\n",
      "Name: appraisal_offer, Length: 200000, dtype: object\n"
     ]
    }
   ],
   "source": [
    "market = data[\"market\"]\n",
    "type(market)\n",
    "import seaborn as sns"
   ]
  },
  {
   "cell_type": "code",
   "execution_count": null,
   "metadata": {},
   "outputs": [],
   "source": [
    "# Engine\n",
    "engine = data[\"engine\"]\n",
    "engine_appraisal = data[\"engine_appraisal\"]\n",
    "\n",
    "# take out the L by deleting the last character then make that value a float\n",
    "for i in range(len(engine)):\n",
    "    engine[i] = engine[i].strip(\"L\")\n",
    "    engine_appraisal[i] = engine_appraisal[i].strip(\"L\")\n",
    "\n",
    "engine = engine.astype(float)\n",
    "engine_appraisal = engine_appraisal.astype(float)"
   ]
  },
  {
   "cell_type": "code",
   "execution_count": 219,
   "metadata": {},
   "outputs": [
    {
     "name": "stdout",
     "output_type": "stream",
     "text": [
      "0          2.5\n",
      "1          2.5\n",
      "2         37.5\n",
      "3          7.5\n",
      "4         17.5\n",
      "          ... \n",
      "199995    17.5\n",
      "199996    12.5\n",
      "199997     2.5\n",
      "199998    12.5\n",
      "199999    17.5\n",
      "Name: appraisal_offer, Length: 200000, dtype: float64\n",
      "       appraisal_offer appraisal_offer  market\n",
      "0            appraisal       appraisal      13\n",
      "1            appraisal       appraisal      11\n",
      "2            appraisal       appraisal      13\n",
      "3            appraisal       appraisal      13\n",
      "4            appraisal       appraisal      16\n",
      "...                ...             ...     ...\n",
      "199995       appraisal       appraisal       1\n",
      "199996       appraisal       appraisal       8\n",
      "199997       appraisal       appraisal       3\n",
      "199998       appraisal       appraisal      11\n",
      "199999       appraisal       appraisal      14\n",
      "\n",
      "[200000 rows x 3 columns]\n"
     ]
    },
    {
     "data": {
      "text/plain": [
       "'\\n\\nbar_data_graph = bar_data[[\\'appraisal_offer\\', \\'price\\',\\'market\\']]    .groupby([\\'market\\'], as_index=False)    .aggregate(\\'mean\\')\\n\\n\\nsns.barplot(x = \"source\", y = \"price\", hue = \"name\", data =  bar_data)\\nplt.xticks(rotation=30)\\nplt.title(\"Source vs Average Price for Expensive Vehicles\")\\nplt.xlabel(\"Source\")\\nplt.ylabel(\"Average Price ($)\")\\n'"
      ]
     },
     "execution_count": 219,
     "metadata": {},
     "output_type": "execute_result"
    }
   ],
   "source": [
    "# while I'm waiting on internet to work, let's do some simple price vs market graphs\n",
    "\n",
    "market = data[\"market\"]\n",
    "\n",
    "\n",
    "# In order to put in the values we want, well need a dataFrame that looks as the following:\n",
    "''' \n",
    "  market |           type                 |  amount\n",
    "   #      appraisal or price                 #\n",
    "'''\n",
    "\n",
    "# these are becoming pointers, not just duplicating the size\n",
    "apprisal_name = appraisal_offer # just make it empty -> should change to an emtpy thing once I can google it\n",
    "price_name = apprisal_name\n",
    "print(appraisal_offer)\n",
    "for i in range(len(apprisal_name)):\n",
    "    apprisal_name[i] = \"appraisal\"\n",
    "    price_name[i] = \"price\"\n",
    "    apprisal_name[i] = \"appraisal\"\n",
    "\n",
    "price_combined = pd.concat([price_name,price,market],axis = 1)\n",
    "appraisal_combined = pd.concat([apprisal_name,appraisal_offer,market],axis = 1)\n",
    "\n",
    "print(appraisal_combined)\n",
    "\n",
    "\n",
    "# I want them to stack - ill need to rename the price/apprisal_offer headers so that they can combine\n",
    "# this probalby won't be a problem once we change apprisal_offer back into a long, not a strong \n",
    "bar_data = pd.concat([price_combined,appraisal_combined],axis = 1)\n",
    "\n",
    "#print(bar_data)\n",
    "\n",
    "\n",
    "'''\n",
    "\n",
    "bar_data_graph = bar_data[['appraisal_offer', 'price','market']]\\\n",
    "    .groupby(['market'], as_index=False)\\\n",
    "    .aggregate('mean')\n",
    "\n",
    "\n",
    "sns.barplot(x = \"source\", y = \"price\", hue = \"name\", data =  bar_data)\n",
    "plt.xticks(rotation=30)\n",
    "plt.title(\"Source vs Average Price for Expensive Vehicles\")\n",
    "plt.xlabel(\"Source\")\n",
    "plt.ylabel(\"Average Price ($)\")\n",
    "'''\n"
   ]
  },
  {
   "cell_type": "code",
   "execution_count": null,
   "metadata": {},
   "outputs": [],
   "source": [
    "## How to get rid of null values!!\n",
    "\n",
    "# id_NaN = data['price'].notnull()\n",
    "# data = data[id_NaN]"
   ]
  }
 ],
 "metadata": {
  "kernelspec": {
   "display_name": "Python 3.7.11 ('cse217a')",
   "language": "python",
   "name": "python3"
  },
  "language_info": {
   "codemirror_mode": {
    "name": "ipython",
    "version": 3
   },
   "file_extension": ".py",
   "mimetype": "text/x-python",
   "name": "python",
   "nbconvert_exporter": "python",
   "pygments_lexer": "ipython3",
   "version": "3.7.11"
  },
  "orig_nbformat": 4,
  "vscode": {
   "interpreter": {
    "hash": "e27b9380ff38cc7a9bd155aef51d2581199facd5a3adc549696474b8eacd75fb"
   }
  }
 },
 "nbformat": 4,
 "nbformat_minor": 2
}
